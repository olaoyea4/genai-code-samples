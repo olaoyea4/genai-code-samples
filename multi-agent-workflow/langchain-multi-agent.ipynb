{
 "cells": [
  {
   "cell_type": "markdown",
   "metadata": {},
   "source": [
    "# Langchain Multi Agent Implementation"
   ]
  },
  {
   "cell_type": "markdown",
   "metadata": {},
   "source": [
    "## Introduction\n",
    "\n",
    "Based on the user input, a **Router invokes an Agent** (langchain construct) from the pool of available agents. Each agent will decide and invoke the required **tool(s)** to get the response back user. This is achived by a single call to router_chain.invoke()"
   ]
  },
  {
   "cell_type": "markdown",
   "metadata": {},
   "source": [
    "**Add packages** \n",
    "\n",
    "pip install\n",
    "langchain==0.2.5\n",
    "langchain-aws==0.1.12\n",
    "langchain-community==0.2.5\n",
    "langchain-core==0.2.20"
   ]
  },
  {
   "cell_type": "code",
   "execution_count": 1,
   "metadata": {
    "tags": []
   },
   "outputs": [
    {
     "name": "stdout",
     "output_type": "stream",
     "text": [
      "Collecting langchain==0.2.5\n",
      "  Downloading langchain-0.2.5-py3-none-any.whl.metadata (7.0 kB)\n",
      "Collecting langchain-aws==0.1.12\n",
      "  Downloading langchain_aws-0.1.12-py3-none-any.whl.metadata (3.1 kB)\n",
      "Collecting langchain-community==0.2.5\n",
      "  Downloading langchain_community-0.2.5-py3-none-any.whl.metadata (2.5 kB)\n",
      "Collecting langchain-core==0.2.20\n",
      "  Downloading langchain_core-0.2.20-py3-none-any.whl.metadata (6.0 kB)\n",
      "Requirement already satisfied: PyYAML>=5.3 in /home/ec2-user/anaconda3/envs/python3/lib/python3.10/site-packages (from langchain==0.2.5) (6.0.1)\n",
      "Requirement already satisfied: SQLAlchemy<3,>=1.4 in /home/ec2-user/anaconda3/envs/python3/lib/python3.10/site-packages (from langchain==0.2.5) (2.0.30)\n",
      "Requirement already satisfied: aiohttp<4.0.0,>=3.8.3 in /home/ec2-user/anaconda3/envs/python3/lib/python3.10/site-packages (from langchain==0.2.5) (3.9.5)\n",
      "Requirement already satisfied: async-timeout<5.0.0,>=4.0.0 in /home/ec2-user/anaconda3/envs/python3/lib/python3.10/site-packages (from langchain==0.2.5) (4.0.3)\n",
      "Collecting langchain-text-splitters<0.3.0,>=0.2.0 (from langchain==0.2.5)\n",
      "  Downloading langchain_text_splitters-0.2.2-py3-none-any.whl.metadata (2.1 kB)\n",
      "Collecting langsmith<0.2.0,>=0.1.17 (from langchain==0.2.5)\n",
      "  Downloading langsmith-0.1.99-py3-none-any.whl.metadata (13 kB)\n",
      "Requirement already satisfied: numpy<2,>=1 in /home/ec2-user/anaconda3/envs/python3/lib/python3.10/site-packages (from langchain==0.2.5) (1.22.4)\n",
      "Collecting pydantic<3,>=1 (from langchain==0.2.5)\n",
      "  Downloading pydantic-2.8.2-py3-none-any.whl.metadata (125 kB)\n",
      "\u001b[2K     \u001b[90m━━━━━━━━━━━━━━━━━━━━━━━━━━━━━━━━━━━━━━\u001b[0m \u001b[32m125.2/125.2 kB\u001b[0m \u001b[31m13.3 MB/s\u001b[0m eta \u001b[36m0:00:00\u001b[0m\n",
      "\u001b[?25hRequirement already satisfied: requests<3,>=2 in /home/ec2-user/anaconda3/envs/python3/lib/python3.10/site-packages (from langchain==0.2.5) (2.32.3)\n",
      "Requirement already satisfied: tenacity<9.0.0,>=8.1.0 in /home/ec2-user/anaconda3/envs/python3/lib/python3.10/site-packages (from langchain==0.2.5) (8.3.0)\n",
      "Requirement already satisfied: boto3<1.35.0,>=1.34.131 in /home/ec2-user/anaconda3/envs/python3/lib/python3.10/site-packages (from langchain-aws==0.1.12) (1.34.142)\n",
      "Collecting dataclasses-json<0.7,>=0.5.7 (from langchain-community==0.2.5)\n",
      "  Downloading dataclasses_json-0.6.7-py3-none-any.whl.metadata (25 kB)\n",
      "Collecting jsonpatch<2.0,>=1.33 (from langchain-core==0.2.20)\n",
      "  Downloading jsonpatch-1.33-py2.py3-none-any.whl.metadata (3.0 kB)\n",
      "Collecting packaging<25,>=23.2 (from langchain-core==0.2.20)\n",
      "  Using cached packaging-24.1-py3-none-any.whl.metadata (3.2 kB)\n",
      "Requirement already satisfied: aiosignal>=1.1.2 in /home/ec2-user/anaconda3/envs/python3/lib/python3.10/site-packages (from aiohttp<4.0.0,>=3.8.3->langchain==0.2.5) (1.3.1)\n",
      "Requirement already satisfied: attrs>=17.3.0 in /home/ec2-user/anaconda3/envs/python3/lib/python3.10/site-packages (from aiohttp<4.0.0,>=3.8.3->langchain==0.2.5) (23.2.0)\n",
      "Requirement already satisfied: frozenlist>=1.1.1 in /home/ec2-user/anaconda3/envs/python3/lib/python3.10/site-packages (from aiohttp<4.0.0,>=3.8.3->langchain==0.2.5) (1.4.1)\n",
      "Requirement already satisfied: multidict<7.0,>=4.5 in /home/ec2-user/anaconda3/envs/python3/lib/python3.10/site-packages (from aiohttp<4.0.0,>=3.8.3->langchain==0.2.5) (6.0.5)\n",
      "Requirement already satisfied: yarl<2.0,>=1.0 in /home/ec2-user/anaconda3/envs/python3/lib/python3.10/site-packages (from aiohttp<4.0.0,>=3.8.3->langchain==0.2.5) (1.9.4)\n",
      "Requirement already satisfied: botocore<1.35.0,>=1.34.142 in /home/ec2-user/anaconda3/envs/python3/lib/python3.10/site-packages (from boto3<1.35.0,>=1.34.131->langchain-aws==0.1.12) (1.34.142)\n",
      "Requirement already satisfied: jmespath<2.0.0,>=0.7.1 in /home/ec2-user/anaconda3/envs/python3/lib/python3.10/site-packages (from boto3<1.35.0,>=1.34.131->langchain-aws==0.1.12) (1.0.1)\n",
      "Requirement already satisfied: s3transfer<0.11.0,>=0.10.0 in /home/ec2-user/anaconda3/envs/python3/lib/python3.10/site-packages (from boto3<1.35.0,>=1.34.131->langchain-aws==0.1.12) (0.10.1)\n",
      "Collecting marshmallow<4.0.0,>=3.18.0 (from dataclasses-json<0.7,>=0.5.7->langchain-community==0.2.5)\n",
      "  Downloading marshmallow-3.21.3-py3-none-any.whl.metadata (7.1 kB)\n",
      "Collecting typing-inspect<1,>=0.4.0 (from dataclasses-json<0.7,>=0.5.7->langchain-community==0.2.5)\n",
      "  Downloading typing_inspect-0.9.0-py3-none-any.whl.metadata (1.5 kB)\n",
      "Requirement already satisfied: jsonpointer>=1.9 in /home/ec2-user/anaconda3/envs/python3/lib/python3.10/site-packages (from jsonpatch<2.0,>=1.33->langchain-core==0.2.20) (2.4)\n",
      "Collecting orjson<4.0.0,>=3.9.14 (from langsmith<0.2.0,>=0.1.17->langchain==0.2.5)\n",
      "  Downloading orjson-3.10.7-cp310-cp310-manylinux_2_17_x86_64.manylinux2014_x86_64.whl.metadata (50 kB)\n",
      "\u001b[2K     \u001b[90m━━━━━━━━━━━━━━━━━━━━━━━━━━━━━━━━━━━━━━━━\u001b[0m \u001b[32m50.4/50.4 kB\u001b[0m \u001b[31m8.1 MB/s\u001b[0m eta \u001b[36m0:00:00\u001b[0m\n",
      "\u001b[?25hCollecting annotated-types>=0.4.0 (from pydantic<3,>=1->langchain==0.2.5)\n",
      "  Downloading annotated_types-0.7.0-py3-none-any.whl.metadata (15 kB)\n",
      "Collecting pydantic-core==2.20.1 (from pydantic<3,>=1->langchain==0.2.5)\n",
      "  Downloading pydantic_core-2.20.1-cp310-cp310-manylinux_2_17_x86_64.manylinux2014_x86_64.whl.metadata (6.6 kB)\n",
      "Requirement already satisfied: typing-extensions>=4.6.1 in /home/ec2-user/anaconda3/envs/python3/lib/python3.10/site-packages (from pydantic<3,>=1->langchain==0.2.5) (4.12.1)\n",
      "Requirement already satisfied: charset-normalizer<4,>=2 in /home/ec2-user/anaconda3/envs/python3/lib/python3.10/site-packages (from requests<3,>=2->langchain==0.2.5) (3.3.2)\n",
      "Requirement already satisfied: idna<4,>=2.5 in /home/ec2-user/anaconda3/envs/python3/lib/python3.10/site-packages (from requests<3,>=2->langchain==0.2.5) (3.7)\n",
      "Requirement already satisfied: urllib3<3,>=1.21.1 in /home/ec2-user/anaconda3/envs/python3/lib/python3.10/site-packages (from requests<3,>=2->langchain==0.2.5) (2.2.1)\n",
      "Requirement already satisfied: certifi>=2017.4.17 in /home/ec2-user/anaconda3/envs/python3/lib/python3.10/site-packages (from requests<3,>=2->langchain==0.2.5) (2024.6.2)\n",
      "Requirement already satisfied: greenlet!=0.4.17 in /home/ec2-user/anaconda3/envs/python3/lib/python3.10/site-packages (from SQLAlchemy<3,>=1.4->langchain==0.2.5) (3.0.3)\n",
      "Requirement already satisfied: python-dateutil<3.0.0,>=2.1 in /home/ec2-user/anaconda3/envs/python3/lib/python3.10/site-packages (from botocore<1.35.0,>=1.34.142->boto3<1.35.0,>=1.34.131->langchain-aws==0.1.12) (2.9.0)\n",
      "Requirement already satisfied: mypy-extensions>=0.3.0 in /home/ec2-user/anaconda3/envs/python3/lib/python3.10/site-packages (from typing-inspect<1,>=0.4.0->dataclasses-json<0.7,>=0.5.7->langchain-community==0.2.5) (1.0.0)\n",
      "Requirement already satisfied: six>=1.5 in /home/ec2-user/anaconda3/envs/python3/lib/python3.10/site-packages (from python-dateutil<3.0.0,>=2.1->botocore<1.35.0,>=1.34.142->boto3<1.35.0,>=1.34.131->langchain-aws==0.1.12) (1.16.0)\n",
      "Downloading langchain-0.2.5-py3-none-any.whl (974 kB)\n",
      "\u001b[2K   \u001b[90m━━━━━━━━━━━━━━━━━━━━━━━━━━━━━━━━━━━━━━━━\u001b[0m \u001b[32m974.6/974.6 kB\u001b[0m \u001b[31m85.5 MB/s\u001b[0m eta \u001b[36m0:00:00\u001b[0m\n",
      "\u001b[?25hDownloading langchain_aws-0.1.12-py3-none-any.whl (76 kB)\n",
      "\u001b[2K   \u001b[90m━━━━━━━━━━━━━━━━━━━━━━━━━━━━━━━━━━━━━━━━\u001b[0m \u001b[32m76.0/76.0 kB\u001b[0m \u001b[31m14.0 MB/s\u001b[0m eta \u001b[36m0:00:00\u001b[0m\n",
      "\u001b[?25hDownloading langchain_community-0.2.5-py3-none-any.whl (2.2 MB)\n",
      "\u001b[2K   \u001b[90m━━━━━━━━━━━━━━━━━━━━━━━━━━━━━━━━━━━━━━━━\u001b[0m \u001b[32m2.2/2.2 MB\u001b[0m \u001b[31m115.8 MB/s\u001b[0m eta \u001b[36m0:00:00\u001b[0m\n",
      "\u001b[?25hDownloading langchain_core-0.2.20-py3-none-any.whl (371 kB)\n",
      "\u001b[2K   \u001b[90m━━━━━━━━━━━━━━━━━━━━━━━━━━━━━━━━━━━━━━━━\u001b[0m \u001b[32m371.7/371.7 kB\u001b[0m \u001b[31m64.7 MB/s\u001b[0m eta \u001b[36m0:00:00\u001b[0m\n",
      "\u001b[?25hDownloading dataclasses_json-0.6.7-py3-none-any.whl (28 kB)\n",
      "Downloading jsonpatch-1.33-py2.py3-none-any.whl (12 kB)\n",
      "Downloading langchain_text_splitters-0.2.2-py3-none-any.whl (25 kB)\n",
      "Downloading langsmith-0.1.99-py3-none-any.whl (140 kB)\n",
      "\u001b[2K   \u001b[90m━━━━━━━━━━━━━━━━━━━━━━━━━━━━━━━━━━━━━━━━\u001b[0m \u001b[32m140.4/140.4 kB\u001b[0m \u001b[31m29.5 MB/s\u001b[0m eta \u001b[36m0:00:00\u001b[0m\n",
      "\u001b[?25hUsing cached packaging-24.1-py3-none-any.whl (53 kB)\n",
      "Downloading pydantic-2.8.2-py3-none-any.whl (423 kB)\n",
      "\u001b[2K   \u001b[90m━━━━━━━━━━━━━━━━━━━━━━━━━━━━━━━━━━━━━━━━\u001b[0m \u001b[32m423.9/423.9 kB\u001b[0m \u001b[31m65.4 MB/s\u001b[0m eta \u001b[36m0:00:00\u001b[0m\n",
      "\u001b[?25hDownloading pydantic_core-2.20.1-cp310-cp310-manylinux_2_17_x86_64.manylinux2014_x86_64.whl (2.1 MB)\n",
      "\u001b[2K   \u001b[90m━━━━━━━━━━━━━━━━━━━━━━━━━━━━━━━━━━━━━━━━\u001b[0m \u001b[32m2.1/2.1 MB\u001b[0m \u001b[31m112.1 MB/s\u001b[0m eta \u001b[36m0:00:00\u001b[0m\n",
      "\u001b[?25hDownloading annotated_types-0.7.0-py3-none-any.whl (13 kB)\n",
      "Downloading marshmallow-3.21.3-py3-none-any.whl (49 kB)\n",
      "\u001b[2K   \u001b[90m━━━━━━━━━━━━━━━━━━━━━━━━━━━━━━━━━━━━━━━━\u001b[0m \u001b[32m49.2/49.2 kB\u001b[0m \u001b[31m10.4 MB/s\u001b[0m eta \u001b[36m0:00:00\u001b[0m\n",
      "\u001b[?25hDownloading orjson-3.10.7-cp310-cp310-manylinux_2_17_x86_64.manylinux2014_x86_64.whl (141 kB)\n",
      "\u001b[2K   \u001b[90m━━━━━━━━━━━━━━━━━━━━━━━━━━━━━━━━━━━━━━━━\u001b[0m \u001b[32m141.9/141.9 kB\u001b[0m \u001b[31m28.3 MB/s\u001b[0m eta \u001b[36m0:00:00\u001b[0m\n",
      "\u001b[?25hDownloading typing_inspect-0.9.0-py3-none-any.whl (8.8 kB)\n",
      "Installing collected packages: typing-inspect, pydantic-core, packaging, orjson, jsonpatch, annotated-types, pydantic, marshmallow, langsmith, dataclasses-json, langchain-core, langchain-text-splitters, langchain-aws, langchain, langchain-community\n",
      "  Attempting uninstall: packaging\n",
      "    Found existing installation: packaging 21.3\n",
      "    Uninstalling packaging-21.3:\n",
      "      Successfully uninstalled packaging-21.3\n",
      "\u001b[31mERROR: pip's dependency resolver does not currently take into account all the packages that are installed. This behaviour is the source of the following dependency conflicts.\n",
      "astropy 6.1.0 requires numpy>=1.23, but you have numpy 1.22.4 which is incompatible.\n",
      "scikit-image 0.23.2 requires numpy>=1.23, but you have numpy 1.22.4 which is incompatible.\n",
      "sparkmagic 0.21.0 requires pandas<2.0.0,>=0.17.1, but you have pandas 2.2.2 which is incompatible.\n",
      "sphinx 7.3.7 requires docutils<0.22,>=0.18.1, but you have docutils 0.16 which is incompatible.\u001b[0m\u001b[31m\n",
      "\u001b[0mSuccessfully installed annotated-types-0.7.0 dataclasses-json-0.6.7 jsonpatch-1.33 langchain-0.2.5 langchain-aws-0.1.12 langchain-community-0.2.5 langchain-core-0.2.20 langchain-text-splitters-0.2.2 langsmith-0.1.99 marshmallow-3.21.3 orjson-3.10.7 packaging-24.1 pydantic-2.8.2 pydantic-core-2.20.1 typing-inspect-0.9.0\n"
     ]
    }
   ],
   "source": [
    "!pip install -U langchain==0.2.5 langchain-aws==0.1.12 langchain-community==0.2.5 langchain-core==0.2.20"
   ]
  },
  {
   "cell_type": "code",
   "execution_count": 2,
   "metadata": {
    "tags": []
   },
   "outputs": [],
   "source": [
    "from langchain.agents import AgentExecutor, create_tool_calling_agent\n",
    "from langchain_aws.chat_models.bedrock import ChatBedrock\n",
    "from langchain_aws import ChatBedrockConverse\n",
    "# from langchain_openai import AzureChatOpenAI\n",
    "from langchain_core.tools import tool\n",
    "from langchain_core.prompts import ChatPromptTemplate, MessagesPlaceholder, HumanMessagePromptTemplate\n",
    "from langchain_core.messages import SystemMessage\n",
    "from langchain.agents import XMLAgent\n",
    "from langchain_core.prompts import PromptTemplate\n",
    "from langchain.schema.runnable import RunnableBranch\n",
    "from langchain_core.runnables import Runnable, RunnablePassthrough\n",
    "from langchain.agents.format_scratchpad.tools import (\n",
    "    format_to_tool_messages,\n",
    ")\n",
    "from langchain.agents.output_parsers.tools import ToolsAgentOutputParser\n",
    "from langchain_core.output_parsers import StrOutputParser\n",
    "import os"
   ]
  },
  {
   "cell_type": "code",
   "execution_count": 3,
   "metadata": {
    "tags": []
   },
   "outputs": [],
   "source": [
    "# select the needed llm\n",
    "# llm = ChatBedrock(model_id=\"anthropic.claude-3-5-sonnet-20240620-v1:0\", region_name='us-east-1', beta_use_converse_api=True)\n",
    "llm = ChatBedrock(model_id=\"anthropic.claude-3-sonnet-20240229-v1:0\", region_name='us-east-1', beta_use_converse_api=True)\n",
    "# llm = ChatBedrockConverse(model=\"anthropic.claude-3-sonnet-20240229-v1:0\", temperature= 0)\n",
    "# llm = ChatBedrockConverse(model=\"anthropic.claude-3-5-sonnet-20240620-v1:0\", temperature= 0)\n",
    "#llm = AzureChatOpenAI(temperature=0, model_name=\"gpt-4o-2024-05-13\")"
   ]
  },
  {
   "cell_type": "code",
   "execution_count": 4,
   "metadata": {
    "tags": []
   },
   "outputs": [],
   "source": [
    "nsm_prompt = ChatPromptTemplate.from_messages(\n",
    "            [\n",
    "                SystemMessage(content=\"You are an agent to list down Online and Offline Firewalls\"),\n",
    "                MessagesPlaceholder(variable_name=\"chat_history\", optional=True),\n",
    "                HumanMessagePromptTemplate.from_template(\n",
    "                    input_variables=[\"input\"], template=\"{input}\"\n",
    "                ),\n",
    "                MessagesPlaceholder(variable_name=\"agent_scratchpad\")\n",
    "            ]\n",
    "        )"
   ]
  },
  {
   "cell_type": "code",
   "execution_count": 5,
   "metadata": {
    "tags": []
   },
   "outputs": [],
   "source": [
    "@tool\n",
    "def online_firewalls():\n",
    "    \"\"\"This tool provides json of online firewalls\"\"\"\n",
    "    return {\"firewall1\": \"A\", \"firewall2\": \"B\"}\n",
    "@tool\n",
    "def offline_firewalls():\n",
    "    \"\"\"This tool provides json of offline firewalls\"\"\"\n",
    "    return [{\"firewallA\": 1}, {\"firewallB\": 2}]\n",
    "\n",
    "nsm_tools = [online_firewalls, offline_firewalls]"
   ]
  },
  {
   "cell_type": "code",
   "execution_count": 6,
   "metadata": {
    "tags": []
   },
   "outputs": [],
   "source": [
    "nsm_agent_w_tools = create_tool_calling_agent(llm=llm, tools=nsm_tools, prompt = nsm_prompt)"
   ]
  },
  {
   "cell_type": "code",
   "execution_count": 7,
   "metadata": {
    "tags": []
   },
   "outputs": [],
   "source": [
    "nsm_agent_w_tools_executor = AgentExecutor(agent=nsm_agent_w_tools, tools=nsm_tools, verbose=True)"
   ]
  },
  {
   "cell_type": "code",
   "execution_count": 8,
   "metadata": {
    "tags": []
   },
   "outputs": [
    {
     "name": "stdout",
     "output_type": "stream",
     "text": [
      "\n",
      "\n",
      "\u001b[1m> Entering new AgentExecutor chain...\u001b[0m\n",
      "\u001b[32;1m\u001b[1;3m\n",
      "Invoking: `online_firewalls` with `{}`\n",
      "responded: [{'type': 'text', 'text': 'To get the list of online firewalls, I will invoke the \"online_firewalls\" tool:', 'index': 0}, {'type': 'tool_use', 'name': 'online_firewalls', 'id': 'tooluse_9uSidlckSgKkXTcgZ233Gw', 'index': 1, 'input': ''}]\n",
      "\n",
      "\u001b[0m\u001b[36;1m\u001b[1;3m{'firewall1': 'A', 'firewall2': 'B'}\u001b[0m\u001b[32;1m\u001b[1;3m[{'type': 'text', 'text': '\\n\\nThe online firewalls are: firewall1 and firewall2.', 'index': 0}]\u001b[0m\n",
      "\n",
      "\u001b[1m> Finished chain.\u001b[0m\n",
      "\n",
      "\n",
      "The online firewalls are: firewall1 and firewall2.\n"
     ]
    }
   ],
   "source": [
    "output = nsm_agent_w_tools_executor.invoke({\"input\": \"Which firewalls are online\"})\n",
    "response = output['output'][0]['text']\n",
    "print(response)"
   ]
  },
  {
   "cell_type": "code",
   "execution_count": 9,
   "metadata": {
    "tags": []
   },
   "outputs": [],
   "source": [
    "msw_prompt = ChatPromptTemplate.from_messages(\n",
    "            [\n",
    "                SystemMessage(content=\"You are an agent to list all available Firewalls\"),\n",
    "                MessagesPlaceholder(variable_name=\"chat_history\", optional=True),\n",
    "                HumanMessagePromptTemplate.from_template(\n",
    "                    input_variables=[\"input\"], template=\"{input}\"\n",
    "                ),\n",
    "                MessagesPlaceholder(variable_name=\"agent_scratchpad\")\n",
    "            ]\n",
    "        )"
   ]
  },
  {
   "cell_type": "code",
   "execution_count": 10,
   "metadata": {
    "tags": []
   },
   "outputs": [],
   "source": [
    "@tool\n",
    "def all_firewalls():\n",
    "    \"\"\"This tool provides json of all firewalls\"\"\"\n",
    "    all_firewalls = {\"firewall1\": \"A\", \"firewall2\": \"B\", \"firewall3\": \"C\", \"firewall4\": \"D\", \"firewall5\": \"E\", \"firewall6\": \"F\"}\n",
    "    return all_firewalls\n",
    "\n",
    "msw_tools = [all_firewalls]"
   ]
  },
  {
   "cell_type": "code",
   "execution_count": 11,
   "metadata": {
    "tags": []
   },
   "outputs": [],
   "source": [
    "msw_agent_w_tools = create_tool_calling_agent(llm=llm, tools=msw_tools, prompt = msw_prompt)"
   ]
  },
  {
   "cell_type": "code",
   "execution_count": 12,
   "metadata": {
    "tags": []
   },
   "outputs": [],
   "source": [
    "msw_agent_w_tools_executor = AgentExecutor(agent=msw_agent_w_tools, tools=msw_tools, verbose=True)"
   ]
  },
  {
   "cell_type": "code",
   "execution_count": 13,
   "metadata": {
    "tags": []
   },
   "outputs": [
    {
     "name": "stdout",
     "output_type": "stream",
     "text": [
      "\n",
      "\n",
      "\u001b[1m> Entering new AgentExecutor chain...\u001b[0m\n",
      "\u001b[32;1m\u001b[1;3m\n",
      "Invoking: `all_firewalls` with `{}`\n",
      "responded: [{'type': 'text', 'text': 'To get a list of all available firewalls, we can invoke the \"all_firewalls\" tool:', 'index': 0}, {'type': 'tool_use', 'name': 'all_firewalls', 'id': 'tooluse_w65XKSkUT_mwRrinjae0qQ', 'index': 1, 'input': ''}]\n",
      "\n",
      "\u001b[0m\u001b[36;1m\u001b[1;3m{'firewall1': 'A', 'firewall2': 'B', 'firewall3': 'C', 'firewall4': 'D', 'firewall5': 'E', 'firewall6': 'F'}\u001b[0m\u001b[32;1m\u001b[1;3m[{'type': 'text', 'text': '\\n\\nThis tool provides JSON output listing all the firewalls available to you. Based on the results, the firewalls you have are:\\n\\n- firewall1\\n- firewall2  \\n- firewall3\\n- firewall4\\n- firewall5\\n- firewall6', 'index': 0}]\u001b[0m\n",
      "\n",
      "\u001b[1m> Finished chain.\u001b[0m\n",
      "\n",
      "\n",
      "This tool provides JSON output listing all the firewalls available to you. Based on the results, the firewalls you have are:\n",
      "\n",
      "- firewall1\n",
      "- firewall2  \n",
      "- firewall3\n",
      "- firewall4\n",
      "- firewall5\n",
      "- firewall6\n"
     ]
    }
   ],
   "source": [
    "output = msw_agent_w_tools_executor.invoke({\"input\": \"what are all the firewalls I have?\"})\n",
    "response = output['output'][0]['text']\n",
    "print(response)"
   ]
  },
  {
   "cell_type": "code",
   "execution_count": 14,
   "metadata": {
    "tags": []
   },
   "outputs": [],
   "source": [
    "from langchain_core.pydantic_v1 import BaseModel, Field\n",
    "\n",
    "class RouterUserInput(BaseModel):\n",
    "    query: str = Field(description=\"should be the entire input from the user\")"
   ]
  },
  {
   "cell_type": "code",
   "execution_count": 15,
   "metadata": {
    "tags": []
   },
   "outputs": [],
   "source": [
    "@tool(args_schema=RouterUserInput)\n",
    "def nsm_agent(query: str) -> str:\n",
    "    '''this is NSM Agent that returns list of firewalls that are online and offline'''\n",
    "    nsm_agent_output = nsm_agent_w_tools_executor.invoke({\"input\": query})\n",
    "    return nsm_agent_output['output'][0]['text']"
   ]
  },
  {
   "cell_type": "code",
   "execution_count": 16,
   "metadata": {
    "tags": []
   },
   "outputs": [],
   "source": [
    "@tool(args_schema=RouterUserInput)\n",
    "def msw_agent(query: str) -> str:\n",
    "    '''this is MSW Agent that returns inventory of firewalls'''\n",
    "    msw_agent_output = msw_agent_w_tools_executor.invoke({\"input\": query})\n",
    "    return msw_agent_output['output'][0]['text']"
   ]
  },
  {
   "cell_type": "code",
   "execution_count": 17,
   "metadata": {
    "tags": []
   },
   "outputs": [],
   "source": [
    "router_tools= [nsm_agent, msw_agent]"
   ]
  },
  {
   "cell_type": "code",
   "execution_count": 18,
   "metadata": {
    "tags": []
   },
   "outputs": [],
   "source": [
    "router_prompt = ChatPromptTemplate.from_messages(\n",
    "            [\n",
    "                SystemMessage(content=\"You are an agent to help with firewall queries, make sure to return exactly what was requested in your response\"),\n",
    "                MessagesPlaceholder(variable_name=\"chat_history\", optional=True),\n",
    "                HumanMessagePromptTemplate.from_template(\n",
    "                    input_variables=[\"input\"], template=\"{input}\"\n",
    "                ),\n",
    "                MessagesPlaceholder(variable_name=\"agent_scratchpad\")\n",
    "            ]\n",
    "        )\n",
    "\n",
    "router_agent = create_tool_calling_agent(llm=llm, tools=router_tools, prompt = router_prompt)"
   ]
  },
  {
   "cell_type": "code",
   "execution_count": 19,
   "metadata": {
    "tags": []
   },
   "outputs": [],
   "source": [
    "router_agent_executor = AgentExecutor(agent=router_agent, tools=router_tools, verbose=True)"
   ]
  },
  {
   "cell_type": "code",
   "execution_count": 20,
   "metadata": {
    "tags": []
   },
   "outputs": [
    {
     "name": "stdout",
     "output_type": "stream",
     "text": [
      "\n",
      "\n",
      "\u001b[1m> Entering new AgentExecutor chain...\u001b[0m\n",
      "\u001b[32;1m\u001b[1;3m\n",
      "Invoking: `nsm_agent` with `{'query': 'Which firewalls are offline'}`\n",
      "responded: [{'type': 'tool_use', 'name': 'nsm_agent', 'id': 'tooluse_6INiVlSSTOW_Fm-u6N5T_w', 'index': 0, 'input': '{\"query\": \"Which firewalls are offline\"}'}]\n",
      "\n",
      "\u001b[0m\n",
      "\n",
      "\u001b[1m> Entering new AgentExecutor chain...\u001b[0m\n",
      "\u001b[32;1m\u001b[1;3m\n",
      "Invoking: `offline_firewalls` with `{}`\n",
      "responded: [{'type': 'text', 'text': 'To get the list of offline firewalls, I will invoke the \"offline_firewalls\" tool:', 'index': 0}, {'type': 'tool_use', 'name': 'offline_firewalls', 'id': 'tooluse_ihcqm5GuQAubjl6w8M7jLA', 'index': 1, 'input': ''}]\n",
      "\n",
      "\u001b[0m\u001b[33;1m\u001b[1;3m[{'firewallA': 1}, {'firewallB': 2}]\u001b[0m\u001b[32;1m\u001b[1;3m[{'type': 'text', 'text': '\\n\\nThe offline firewalls according to the tool output are firewallA and firewallB.', 'index': 0}]\u001b[0m\n",
      "\n",
      "\u001b[1m> Finished chain.\u001b[0m\n",
      "\u001b[36;1m\u001b[1;3m\n",
      "\n",
      "The offline firewalls according to the tool output are firewallA and firewallB.\u001b[0m\u001b[32;1m\u001b[1;3m[]\u001b[0m\n",
      "\n",
      "\u001b[1m> Finished chain.\u001b[0m\n"
     ]
    },
    {
     "data": {
      "text/plain": [
       "{'input': 'Which firewalls are offline', 'output': []}"
      ]
     },
     "execution_count": 20,
     "metadata": {},
     "output_type": "execute_result"
    }
   ],
   "source": [
    "router_agent_executor.invoke({\"input\":\"Which firewalls are offline\"})"
   ]
  },
  {
   "cell_type": "code",
   "execution_count": 21,
   "metadata": {
    "tags": []
   },
   "outputs": [
    {
     "name": "stdout",
     "output_type": "stream",
     "text": [
      "\n",
      "\n",
      "\u001b[1m> Entering new AgentExecutor chain...\u001b[0m\n",
      "\u001b[32;1m\u001b[1;3m\n",
      "Invoking: `nsm_agent` with `{'query': 'Which firewalls are online'}`\n",
      "responded: [{'type': 'text', 'text': 'Here is how we can find out which firewalls are online:', 'index': 0}, {'type': 'tool_use', 'name': 'nsm_agent', 'id': 'tooluse_vRctYupUTVuiCAXV0LtIGw', 'index': 1, 'input': '{\"query\": \"Which firewalls are online\"}'}]\n",
      "\n",
      "\u001b[0m\n",
      "\n",
      "\u001b[1m> Entering new AgentExecutor chain...\u001b[0m\n",
      "\u001b[32;1m\u001b[1;3m\n",
      "Invoking: `online_firewalls` with `{}`\n",
      "responded: [{'type': 'text', 'text': 'To get the list of online firewalls, I will invoke the \"online_firewalls\" tool:', 'index': 0}, {'type': 'tool_use', 'name': 'online_firewalls', 'id': 'tooluse_h_OT3cKtQZOXGzzr50id3A', 'index': 1, 'input': ''}]\n",
      "\n",
      "\u001b[0m\u001b[36;1m\u001b[1;3m{'firewall1': 'A', 'firewall2': 'B'}\u001b[0m\u001b[32;1m\u001b[1;3m[{'type': 'text', 'text': '\\n\\nThe online firewalls based on the tool output are: firewall1 and firewall2.', 'index': 0}]\u001b[0m\n",
      "\n",
      "\u001b[1m> Finished chain.\u001b[0m\n",
      "\u001b[36;1m\u001b[1;3m\n",
      "\n",
      "The online firewalls based on the tool output are: firewall1 and firewall2.\u001b[0m\u001b[32;1m\u001b[1;3m[{'type': 'text', 'text': '\\n\\nThe nsm_agent tool lists the firewalls that are currently online and offline, so invoking it with the query \"Which firewalls are online\" allows me to extract just the online firewall names from its output.', 'index': 0}]\u001b[0m\n",
      "\n",
      "\u001b[1m> Finished chain.\u001b[0m\n"
     ]
    },
    {
     "data": {
      "text/plain": [
       "{'input': 'Which firewalls are online',\n",
       " 'output': [{'type': 'text',\n",
       "   'text': '\\n\\nThe nsm_agent tool lists the firewalls that are currently online and offline, so invoking it with the query \"Which firewalls are online\" allows me to extract just the online firewall names from its output.',\n",
       "   'index': 0}]}"
      ]
     },
     "execution_count": 21,
     "metadata": {},
     "output_type": "execute_result"
    }
   ],
   "source": [
    "router_agent_executor.invoke({\"input\":\"Which firewalls are online\"})"
   ]
  },
  {
   "cell_type": "code",
   "execution_count": 22,
   "metadata": {
    "tags": []
   },
   "outputs": [
    {
     "name": "stdout",
     "output_type": "stream",
     "text": [
      "\n",
      "\n",
      "\u001b[1m> Entering new AgentExecutor chain...\u001b[0m\n",
      "\u001b[32;1m\u001b[1;3m\n",
      "Invoking: `msw_agent` with `{'query': 'what are all the firewalls I have?'}`\n",
      "responded: [{'type': 'text', 'text': 'To get the inventory of all firewalls, we can invoke the msw_agent tool:', 'index': 0}, {'type': 'tool_use', 'name': 'msw_agent', 'id': 'tooluse_sEEICtIiRHqfHUj9CkPzAw', 'index': 1, 'input': '{\"query\": \"what are all the firewalls I have?\"}'}]\n",
      "\n",
      "\u001b[0m\n",
      "\n",
      "\u001b[1m> Entering new AgentExecutor chain...\u001b[0m\n",
      "\u001b[32;1m\u001b[1;3m\n",
      "Invoking: `all_firewalls` with `{}`\n",
      "responded: [{'type': 'text', 'text': 'Okay, let me invoke the \"all_firewalls\" tool to get the list of available firewalls:', 'index': 0}, {'type': 'tool_use', 'name': 'all_firewalls', 'id': 'tooluse_ZXBcjkPAQsyDq2w4-HQ42w', 'index': 1, 'input': ''}]\n",
      "\n",
      "\u001b[0m\u001b[36;1m\u001b[1;3m{'firewall1': 'A', 'firewall2': 'B', 'firewall3': 'C', 'firewall4': 'D', 'firewall5': 'E', 'firewall6': 'F'}\u001b[0m\u001b[32;1m\u001b[1;3m[{'type': 'text', 'text': '\\n\\nThe tool returned a JSON object listing all the available firewalls. Based on the output, you have the following firewalls:\\n\\n- firewall1\\n- firewall2  \\n- firewall3\\n- firewall4\\n- firewall5\\n- firewall6', 'index': 0}]\u001b[0m\n",
      "\n",
      "\u001b[1m> Finished chain.\u001b[0m\n",
      "\u001b[33;1m\u001b[1;3m\n",
      "\n",
      "The tool returned a JSON object listing all the available firewalls. Based on the output, you have the following firewalls:\n",
      "\n",
      "- firewall1\n",
      "- firewall2  \n",
      "- firewall3\n",
      "- firewall4\n",
      "- firewall5\n",
      "- firewall6\u001b[0m\u001b[32;1m\u001b[1;3m[]\u001b[0m\n",
      "\n",
      "\u001b[1m> Finished chain.\u001b[0m\n"
     ]
    },
    {
     "data": {
      "text/plain": [
       "{'input': 'what are all the firewalls I have?', 'output': []}"
      ]
     },
     "execution_count": 22,
     "metadata": {},
     "output_type": "execute_result"
    }
   ],
   "source": [
    "router_agent_executor.invoke({\"input\":\"what are all the firewalls I have?\"})"
   ]
  },
  {
   "cell_type": "code",
   "execution_count": 23,
   "metadata": {
    "tags": []
   },
   "outputs": [
    {
     "name": "stdout",
     "output_type": "stream",
     "text": [
      "\n",
      "\n",
      "\u001b[1m> Entering new AgentExecutor chain...\u001b[0m\n",
      "\u001b[32;1m\u001b[1;3m\n",
      "Invoking: `nsm_agent` with `{'query': 'what are all the firewalls I have and are they online?'}`\n",
      "responded: [{'type': 'text', 'text': 'To get the list of all firewalls and their status, we can invoke the nsm_agent tool:', 'index': 0}, {'type': 'tool_use', 'name': 'nsm_agent', 'id': 'tooluse_1VGQJL9bTzGuCjfmGi5TJQ', 'index': 1, 'input': '{\"query\": \"what are all the firewalls I have and are they online?\"}'}]\n",
      "\n",
      "\u001b[0m\n",
      "\n",
      "\u001b[1m> Entering new AgentExecutor chain...\u001b[0m\n",
      "\u001b[32;1m\u001b[1;3m\n",
      "Invoking: `online_firewalls` with `{}`\n",
      "responded: [{'type': 'text', 'text': 'To get the list of online and offline firewalls, I will invoke the relevant tools:', 'index': 0}, {'type': 'tool_use', 'name': 'online_firewalls', 'id': 'tooluse_e7nZP1RMR4SD2YVlqz34Mw', 'index': 1, 'input': ''}]\n",
      "\n",
      "\u001b[0m\u001b[36;1m\u001b[1;3m{'firewall1': 'A', 'firewall2': 'B'}\u001b[0m\u001b[32;1m\u001b[1;3m\n",
      "Invoking: `offline_firewalls` with `{}`\n",
      "responded: [{'type': 'text', 'text': '\\n\\nThe online firewalls are firewall1 and firewall2.', 'index': 0}, {'type': 'tool_use', 'name': 'offline_firewalls', 'id': 'tooluse_QPOuddN9R2G4HBlYf_-Pdw', 'index': 1, 'input': ''}]\n",
      "\n",
      "\u001b[0m\u001b[33;1m\u001b[1;3m[{'firewallA': 1}, {'firewallB': 2}]\u001b[0m\u001b[32;1m\u001b[1;3m[{'type': 'text', 'text': '\\n\\nThe offline firewalls are firewallA and firewallB.\\n\\nSo the full list of your firewalls includes:\\n\\nOnline Firewalls:\\n- firewall1 \\n- firewall2\\n\\nOffline Firewalls:  \\n- firewallA\\n- firewallB', 'index': 0}]\u001b[0m\n",
      "\n",
      "\u001b[1m> Finished chain.\u001b[0m\n",
      "\u001b[36;1m\u001b[1;3m\n",
      "\n",
      "The offline firewalls are firewallA and firewallB.\n",
      "\n",
      "So the full list of your firewalls includes:\n",
      "\n",
      "Online Firewalls:\n",
      "- firewall1 \n",
      "- firewall2\n",
      "\n",
      "Offline Firewalls:  \n",
      "- firewallA\n",
      "- firewallB\u001b[0m\u001b[32;1m\u001b[1;3m[{'type': 'text', 'text': '\\n\\nThe nsm_agent returned the list of all your firewalls, indicating which ones are online and which are offline. firewall1 and firewall2 are online, while firewallA and firewallB are currently offline.', 'index': 0}]\u001b[0m\n",
      "\n",
      "\u001b[1m> Finished chain.\u001b[0m\n"
     ]
    },
    {
     "data": {
      "text/plain": [
       "{'input': 'what are all the firewalls I have and are they online?',\n",
       " 'output': [{'type': 'text',\n",
       "   'text': '\\n\\nThe nsm_agent returned the list of all your firewalls, indicating which ones are online and which are offline. firewall1 and firewall2 are online, while firewallA and firewallB are currently offline.',\n",
       "   'index': 0}]}"
      ]
     },
     "execution_count": 23,
     "metadata": {},
     "output_type": "execute_result"
    }
   ],
   "source": [
    "router_agent_executor.invoke({\"input\":\"what are all the firewalls I have and are they online?\"})"
   ]
  }
 ],
 "metadata": {
  "kernelspec": {
   "display_name": "conda_python3",
   "language": "python",
   "name": "conda_python3"
  },
  "language_info": {
   "codemirror_mode": {
    "name": "ipython",
    "version": 3
   },
   "file_extension": ".py",
   "mimetype": "text/x-python",
   "name": "python",
   "nbconvert_exporter": "python",
   "pygments_lexer": "ipython3",
   "version": "3.10.14"
  }
 },
 "nbformat": 4,
 "nbformat_minor": 4
}
