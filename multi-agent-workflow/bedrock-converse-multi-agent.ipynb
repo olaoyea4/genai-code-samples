{
 "cells": [
  {
   "cell_type": "markdown",
   "id": "3e3bf61b-106b-43ad-8177-ebe6b4e895ce",
   "metadata": {},
   "source": [
    "# Bedrock Converse Multi Agent Implementation"
   ]
  },
  {
   "cell_type": "markdown",
   "id": "1fdabf4b-75df-4d24-89e0-f7b3dae478fd",
   "metadata": {},
   "source": [
    "## Introduction\n",
    "\n",
    "Based on the user input, a **Router implemented using Bedrock tool use invokes an Agent** from the pool of available agents defined as tools. Each agent will decide and invoke the required **tool(s)** to get the response back user.\n",
    "\n",
    "This notebook has some borrowed code from [this](https://community.aws/content/2hW7srTWRb5idHjY4I8WP5fQFRf/build-a-tool-use-based-agent-loop-with-amazon-bedrock?lang=en) post"
   ]
  },
  {
   "cell_type": "code",
   "execution_count": 1,
   "id": "92a7c0a8-c25e-42ef-9106-a445272001ac",
   "metadata": {
    "tags": []
   },
   "outputs": [],
   "source": [
    "import boto3"
   ]
  },
  {
   "cell_type": "code",
   "execution_count": 2,
   "id": "e8935c37-6d4c-4bdb-a006-0125cb4dd7d2",
   "metadata": {
    "tags": []
   },
   "outputs": [],
   "source": [
    "class ToolError(Exception):\n",
    "    pass"
   ]
  },
  {
   "cell_type": "markdown",
   "id": "e3d1f2ae-c90f-461c-95e9-bc9fbd0a5a8f",
   "metadata": {},
   "source": [
    "## Define tools for the task agents"
   ]
  },
  {
   "cell_type": "code",
   "execution_count": 3,
   "id": "55ff0cd0-3dd5-446b-9237-e178afdce051",
   "metadata": {
    "tags": []
   },
   "outputs": [],
   "source": [
    "# Tools for firewallagent1 Agent\n",
    "\n",
    "def online_firewalls(arg):\n",
    "    return {\"firewall1\": \"A\", \"firewall2\": \"B\"}\n",
    "\n",
    "def offline_firewalls(arg):\n",
    "    return [{\"firewallA\": 1}, {\"firewallB\": 2}]\n",
    "\n",
    "firewallagent1_agent_tools = [\n",
    "    {\n",
    "        \"toolSpec\": {\n",
    "            \"name\": \"online_firewalls\",\n",
    "            \"description\": \"This tool provides json of online firewalls\",\n",
    "            \"inputSchema\": {\n",
    "                \"json\": {\n",
    "                    \"type\": \"object\",\n",
    "                    \"properties\": {\n",
    "                        \"query\": {\n",
    "                            \"type\": \"string\",\n",
    "                            \"description\": \"The entire user query\"\n",
    "                        }\n",
    "                    },\n",
    "                    \"required\": [\"query\"]\n",
    "                }\n",
    "            }\n",
    "        }\n",
    "    },\n",
    "    {\n",
    "        \"toolSpec\": {\n",
    "            \"name\": \"offline_firewalls\",\n",
    "            \"description\": \"This tool provides json of offline firewalls\",\n",
    "            \"inputSchema\": {\n",
    "                \"json\": {\n",
    "                    \"type\": \"object\",\n",
    "                    \"properties\": {\n",
    "                        \"query\": {\n",
    "                            \"type\": \"string\",\n",
    "                            \"description\": \"The entire user query\"\n",
    "                        }\n",
    "                    },\n",
    "                    \"required\": [\"query\"]\n",
    "                }\n",
    "            }\n",
    "        }\n",
    "    }\n",
    "]"
   ]
  },
  {
   "cell_type": "code",
   "execution_count": 4,
   "id": "397c5996-1b6a-42c9-9b7d-4b2483f768fe",
   "metadata": {
    "tags": []
   },
   "outputs": [],
   "source": [
    "# Tools for firewallagent2 Agent\n",
    "\n",
    "def all_firewalls(arg):\n",
    "    all_firewalls = {\"firewall1\": \"A\", \"firewall2\": \"B\", \"firewall3\": \"C\", \"firewall4\": \"D\", \"firewall5\": \"E\", \"firewall6\": \"F\"}\n",
    "    return all_firewalls\n",
    "\n",
    "firewallagent2_agent_tools = [\n",
    "    {\n",
    "        \"toolSpec\": {\n",
    "            \"name\": \"all_firewalls\",\n",
    "            \"description\": \"This tool provides json of all firewalls\",\n",
    "            \"inputSchema\": {\n",
    "                \"json\": {\n",
    "                    \"type\": \"object\",\n",
    "                    \"properties\": {\n",
    "                        \"query\": {\n",
    "                            \"type\": \"string\",\n",
    "                            \"description\": \"The entire user query\"\n",
    "                        }\n",
    "                    },\n",
    "                    \"required\": [\"query\"]\n",
    "                }\n",
    "            }\n",
    "        }\n",
    "    }\n",
    "]"
   ]
  },
  {
   "cell_type": "markdown",
   "id": "3b799d71-ec34-438e-85a6-10e8a45c4e98",
   "metadata": {},
   "source": [
    "## Define helper function to call Bedrock"
   ]
  },
  {
   "cell_type": "code",
   "execution_count": 5,
   "id": "4d004b03-b2bd-49a7-b55c-2419edef595c",
   "metadata": {
    "tags": []
   },
   "outputs": [],
   "source": [
    "def call_bedrock(system_message, message_list, tool_list):\n",
    "    session = boto3.Session()\n",
    "\n",
    "    bedrock = session.client(service_name='bedrock-runtime')\n",
    "    \n",
    "    response = bedrock.converse(\n",
    "        modelId=\"anthropic.claude-3-sonnet-20240229-v1:0\",\n",
    "        messages=message_list,\n",
    "        system=system_message,\n",
    "        inferenceConfig={\n",
    "            \"maxTokens\": 2000,\n",
    "            \"temperature\": 0\n",
    "        },\n",
    "        toolConfig={ \"tools\": tool_list }\n",
    "    )\n",
    "    \n",
    "    return response\n"
   ]
  },
  {
   "cell_type": "markdown",
   "id": "4d2de596-c0c9-48d4-8570-7bf1f29485e3",
   "metadata": {},
   "source": [
    "## Define helper function to invoke a given tool"
   ]
  },
  {
   "cell_type": "code",
   "execution_count": 6,
   "id": "54cb3440-2eca-470c-b86e-740209b7eb3c",
   "metadata": {
    "tags": []
   },
   "outputs": [],
   "source": [
    "def get_tool_result(tool_use_block):\n",
    "    \n",
    "    tool_name = tool_use_block['name']\n",
    "    tool_input = tool_use_block['input']['query']\n",
    "    \n",
    "    print(f\"Using tool `{tool_name}` for query `{tool_input}`\")\n",
    "    func = globals()[tool_name]\n",
    "    try:\n",
    "        return func(tool_input)\n",
    "    except Exception as e:\n",
    "        raise ToolError(f\"Something went wrong: {e}\")\n"
   ]
  },
  {
   "cell_type": "markdown",
   "id": "59bcf60b-7c29-4031-bfed-64dfd501fb37",
   "metadata": {},
   "source": [
    "## Define function to handle the raw responses from Bedrock"
   ]
  },
  {
   "cell_type": "code",
   "execution_count": 7,
   "id": "5d9eb98b-e6ed-4da5-99d1-f150c7b322c5",
   "metadata": {
    "tags": []
   },
   "outputs": [],
   "source": [
    "def handle_model_response(response):\n",
    "    \n",
    "    response_content_blocks = response['content']\n",
    "    follow_up_content_blocks = []\n",
    "    \n",
    "    for content_block in response_content_blocks:\n",
    "        if 'toolUse' in content_block:\n",
    "            tool_use_block = content_block['toolUse']\n",
    "            \n",
    "            try:\n",
    "                tool_result_value = get_tool_result(tool_use_block)\n",
    "                \n",
    "                if tool_result_value is not None:\n",
    "                    follow_up_content_blocks.append({\n",
    "                        \"toolResult\": {\n",
    "                            \"toolUseId\": tool_use_block['toolUseId'],\n",
    "                            \"content\": [\n",
    "                                { \"json\": { \"result\": tool_result_value } }\n",
    "                            ]\n",
    "                        }\n",
    "                    })\n",
    "                \n",
    "            except ToolError as e:\n",
    "                follow_up_content_blocks.append({ \n",
    "                    \"toolResult\": {\n",
    "                        \"toolUseId\": tool_use_block['toolUseId'],\n",
    "                        \"content\": [  { \"text\": repr(e) } ],\n",
    "                        \"status\": \"error\"\n",
    "                    }\n",
    "                })\n",
    "        \n",
    "    \n",
    "    if len(follow_up_content_blocks) > 0:\n",
    "        \n",
    "        follow_up_message = {\n",
    "            \"role\": \"user\",\n",
    "            \"content\": follow_up_content_blocks,\n",
    "        }\n",
    "        \n",
    "        return follow_up_message\n",
    "    else:\n",
    "        return None\n"
   ]
  },
  {
   "cell_type": "markdown",
   "id": "8441c3f0-c781-45e3-a293-93215327c2c5",
   "metadata": {},
   "source": [
    "## Define function that implements the Agent Loop till final response is received"
   ]
  },
  {
   "cell_type": "code",
   "execution_count": 8,
   "id": "a0ccdfec-67e6-438a-ab71-8263eacd559f",
   "metadata": {
    "tags": []
   },
   "outputs": [],
   "source": [
    "def run_agent(system_prompt, input_prompt, tool_list):\n",
    "    # MAX_LOOPS = 6\n",
    "    # loop_count = 0\n",
    "    continue_loop = True\n",
    "    output = \"\"\n",
    "    \n",
    "    system_message = [\n",
    "        {\n",
    "            \"text\": system_prompt\n",
    "        }\n",
    "    ]\n",
    "    \n",
    "    message_list = [\n",
    "        {\n",
    "            \"role\": \"user\",\n",
    "            \"content\": [ { \"text\": input_prompt } ]\n",
    "        }\n",
    "    ]\n",
    "    \n",
    "    while continue_loop:\n",
    "        response = call_bedrock(system_message, message_list, tool_list)\n",
    "\n",
    "        response_message = response['output']['message']\n",
    "        message_list.append(response_message)\n",
    "\n",
    "        # loop_count = loop_count + 1\n",
    "\n",
    "        # if loop_count >= MAX_LOOPS:\n",
    "        #     print(f\"Hit loop limit: {loop_count}\")\n",
    "        #     break\n",
    "\n",
    "        follow_up_message = handle_model_response(response_message)\n",
    "\n",
    "        if follow_up_message is None:\n",
    "            # No remaining work to do, return final response to user\n",
    "            continue_loop = False\n",
    "            if response['stopReason'] == \"end_turn\":\n",
    "                agent_output = response_message['content'][0]['text']\n",
    "        else:\n",
    "            message_list.append(follow_up_message)\n",
    "            \n",
    "    return message_list, agent_output\n"
   ]
  },
  {
   "cell_type": "markdown",
   "id": "29643e59-a516-4fb2-a3ef-b486a05febea",
   "metadata": {},
   "source": [
    "## Define task agent executors"
   ]
  },
  {
   "cell_type": "code",
   "execution_count": 9,
   "id": "8c539ab8-222d-4849-98db-63e588ccab92",
   "metadata": {
    "tags": []
   },
   "outputs": [],
   "source": [
    "# firewallagent1 Agent Executor\n",
    "\n",
    "def firewallagent1_agent_executor(firewallagent1_agent_input_prompt):\n",
    "    \n",
    "    firewallagent1_agent_system_prompt = \"\"\"\n",
    "    You are an agent to list down Online and Offline Firewalls\n",
    "    \"\"\"\n",
    "\n",
    "    firewallagent1_agent_workflow, firewallagent1_agent_output = run_agent(firewallagent1_agent_system_prompt, firewallagent1_agent_input_prompt, firewallagent1_agent_tools)\n",
    "    \n",
    "    # returning just the output for now\n",
    "    # can choose to return the workflow `firewallagent1_agent_workflow` as well which includes details of the different tools called when this agent is called\n",
    "    \n",
    "    return firewallagent1_agent_output"
   ]
  },
  {
   "cell_type": "code",
   "execution_count": 10,
   "id": "2598457e-335f-45e1-8bc9-b5ade7f04773",
   "metadata": {
    "tags": []
   },
   "outputs": [],
   "source": [
    "# firewallagent2 Agent Executor\n",
    "\n",
    "def firewallagent2_agent_executor(firewallagent2_agent_input_prompt):\n",
    "    \n",
    "    firewallagent2_agent_system_prompt = \"\"\"\n",
    "    You are an agent to list all available Firewalls\n",
    "    \"\"\"\n",
    "\n",
    "    firewallagent2_agent_workflow, firewallagent2_agent_output = run_agent(firewallagent2_agent_system_prompt, firewallagent2_agent_input_prompt, firewallagent2_agent_tools)\n",
    "    \n",
    "    # returning just the output for now\n",
    "    # can choose to return the workflow `firewallagent2_agent_workflow` as well which includes details of the different tools called when this agent is called\n",
    "    return firewallagent2_agent_output"
   ]
  },
  {
   "cell_type": "markdown",
   "id": "ded92adc-826c-4f58-9d74-758e5ca9f3e8",
   "metadata": {},
   "source": [
    "## Execute task agents standalone"
   ]
  },
  {
   "cell_type": "code",
   "execution_count": 11,
   "id": "b75137c4-9fa0-4ca5-b96f-de066ba18955",
   "metadata": {
    "tags": []
   },
   "outputs": [
    {
     "name": "stdout",
     "output_type": "stream",
     "text": [
      "Using tool `online_firewalls` for query `Which firewalls are online`\n"
     ]
    },
    {
     "data": {
      "text/plain": [
       "'The online firewalls according to the tool output are:\\n- firewall1: A\\n- firewall2: B'"
      ]
     },
     "execution_count": 11,
     "metadata": {},
     "output_type": "execute_result"
    }
   ],
   "source": [
    "firewallagent1_agent_executor(\"Which firewalls are online\")"
   ]
  },
  {
   "cell_type": "code",
   "execution_count": 12,
   "id": "043dfcd1-00fc-4223-b02a-3edfc52fd854",
   "metadata": {
    "tags": []
   },
   "outputs": [
    {
     "name": "stdout",
     "output_type": "stream",
     "text": [
      "Using tool `offline_firewalls` for query `Which firewalls are offline`\n"
     ]
    },
    {
     "data": {
      "text/plain": [
       "\"The offline firewalls based on the tool's output are:\\n- firewallA\\n- firewallB\""
      ]
     },
     "execution_count": 12,
     "metadata": {},
     "output_type": "execute_result"
    }
   ],
   "source": [
    "firewallagent1_agent_executor(\"Which firewalls are offline\")"
   ]
  },
  {
   "cell_type": "code",
   "execution_count": 13,
   "id": "d8e05d83-65ac-4329-9046-e918fd5895f9",
   "metadata": {
    "tags": []
   },
   "outputs": [
    {
     "name": "stdout",
     "output_type": "stream",
     "text": [
      "Using tool `all_firewalls` for query `list all my firewalls`\n"
     ]
    },
    {
     "data": {
      "text/plain": [
       "'The tool all_firewalls returned a JSON object listing all your firewalls. The firewalls are:\\n\\nfirewall1: A\\nfirewall2: B  \\nfirewall3: C\\nfirewall4: D\\nfirewall5: E\\nfirewall6: F'"
      ]
     },
     "execution_count": 13,
     "metadata": {},
     "output_type": "execute_result"
    }
   ],
   "source": [
    "firewallagent2_agent_executor(\"list all my firewalls\")"
   ]
  },
  {
   "cell_type": "markdown",
   "id": "5ec3d67b-b84e-4d3a-9099-bfed4ea40845",
   "metadata": {},
   "source": [
    "## Define Task agents as tools for router agents"
   ]
  },
  {
   "cell_type": "code",
   "execution_count": 14,
   "id": "f3615fb5-7a14-496c-8b9e-42d0546c8d79",
   "metadata": {
    "tags": []
   },
   "outputs": [],
   "source": [
    "# Tools for Router Agent\n",
    "\n",
    "router_agent_tools = [\n",
    "    {\n",
    "        \"toolSpec\": {\n",
    "            \"name\": \"firewallagent1_agent_executor\",\n",
    "            \"description\": \"this is firewallagent1 Agent that returns list of firewalls that are online and offline\",\n",
    "            \"inputSchema\": {\n",
    "                \"json\": {\n",
    "                    \"type\": \"object\",\n",
    "                    \"properties\": {\n",
    "                        \"query\": {\n",
    "                            \"type\": \"string\",\n",
    "                            \"description\": \"The entire input from the user\"\n",
    "                        }\n",
    "                    },\n",
    "                    \"required\": [\"query\"]\n",
    "                }\n",
    "            }\n",
    "        }\n",
    "    },\n",
    "    {\n",
    "        \"toolSpec\": {\n",
    "            \"name\": \"firewallagent2_agent_executor\",\n",
    "            \"description\": \"This is firewallagent2 Agent that returns inventory of all firewalls\",\n",
    "            \"inputSchema\": {\n",
    "                \"json\": {\n",
    "                    \"type\": \"object\",\n",
    "                    \"properties\": {\n",
    "                        \"query\": {\n",
    "                            \"type\": \"string\",\n",
    "                            \"description\": \"The entire input from the user\"\n",
    "                        }\n",
    "                    },\n",
    "                    \"required\": [\"query\"]\n",
    "                }\n",
    "            }\n",
    "        }\n",
    "    }\n",
    "]"
   ]
  },
  {
   "cell_type": "markdown",
   "id": "6a0945f0-7222-4f1c-b8ad-eee02631ac47",
   "metadata": {},
   "source": [
    "## Define router agent executor"
   ]
  },
  {
   "cell_type": "code",
   "execution_count": 15,
   "id": "e5f52468-812c-42f3-8b96-87fc32f2b674",
   "metadata": {
    "tags": []
   },
   "outputs": [],
   "source": [
    "# Router Agent Executor\n",
    "\n",
    "def router_agent_executor(router_input_prompt):\n",
    "    \n",
    "    router_agent_system_prompt = \"\"\"\n",
    "    You are an agent to help with firewall queries, you use the tools at your disposal to fulfill user queries. \n",
    "    After you have the appropriate tool(s) and there is a final response, respond back with this output to the user\n",
    "    \"\"\"\n",
    "\n",
    "    router_agent_workflow, router_agent_output = run_agent(router_agent_system_prompt, router_input_prompt, router_agent_tools)\n",
    "    \n",
    "    return router_agent_workflow, router_agent_output"
   ]
  },
  {
   "cell_type": "markdown",
   "id": "c5545716-0215-4dcc-a03a-460800fdf11c",
   "metadata": {},
   "source": [
    "## Run task agent executor"
   ]
  },
  {
   "cell_type": "code",
   "execution_count": 16,
   "id": "c0bd7f92-477e-4da4-94fc-dc51481e1857",
   "metadata": {
    "tags": []
   },
   "outputs": [
    {
     "name": "stdout",
     "output_type": "stream",
     "text": [
      "Using tool `firewallagent2_agent_executor` for query `list all my firewalls`\n",
      "Using tool `all_firewalls` for query `list all my firewalls`\n"
     ]
    }
   ],
   "source": [
    "router_agent_workflow, router_agent_output = router_agent_executor(\"list all my firewalls\")"
   ]
  },
  {
   "cell_type": "code",
   "execution_count": 17,
   "id": "bd482e12-48ed-4a37-9f2f-b345f1bcd676",
   "metadata": {},
   "outputs": [
    {
     "data": {
      "text/plain": [
       "[{'role': 'user', 'content': [{'text': 'list all my firewalls'}]},\n",
       " {'role': 'assistant',\n",
       "  'content': [{'toolUse': {'toolUseId': 'tooluse_sd5vkwOwSH2ehQh99yIigg',\n",
       "     'name': 'firewallagent2_agent_executor',\n",
       "     'input': {'query': 'list all my firewalls'}}}]},\n",
       " {'role': 'user',\n",
       "  'content': [{'toolResult': {'toolUseId': 'tooluse_sd5vkwOwSH2ehQh99yIigg',\n",
       "     'content': [{'json': {'result': 'The tool all_firewalls returned a JSON object listing all your firewalls. The firewalls are:\\n\\nfirewall1: A\\nfirewall2: B  \\nfirewall3: C\\nfirewall4: D\\nfirewall5: E\\nfirewall6: F'}}]}}]},\n",
       " {'role': 'assistant',\n",
       "  'content': [{'text': 'The tool firewallagent2_agent_executor was used to list all your firewalls. The firewalls returned are: firewall1, firewall2, firewall3, firewall4, firewall5, firewall6.'}]}]"
      ]
     },
     "execution_count": 17,
     "metadata": {},
     "output_type": "execute_result"
    }
   ],
   "source": [
    "router_agent_workflow"
   ]
  },
  {
   "cell_type": "code",
   "execution_count": 18,
   "id": "f0e3640d-d89e-416d-9a82-0b37ce317e41",
   "metadata": {
    "tags": []
   },
   "outputs": [
    {
     "data": {
      "text/plain": [
       "'The tool firewallagent2_agent_executor was used to list all your firewalls. The firewalls returned are: firewall1, firewall2, firewall3, firewall4, firewall5, firewall6.'"
      ]
     },
     "execution_count": 18,
     "metadata": {},
     "output_type": "execute_result"
    }
   ],
   "source": [
    "router_agent_output"
   ]
  }
 ],
 "metadata": {
  "kernelspec": {
   "display_name": "conda_tensorflow2_p310",
   "language": "python",
   "name": "conda_tensorflow2_p310"
  },
  "language_info": {
   "codemirror_mode": {
    "name": "ipython",
    "version": 3
   },
   "file_extension": ".py",
   "mimetype": "text/x-python",
   "name": "python",
   "nbconvert_exporter": "python",
   "pygments_lexer": "ipython3",
   "version": "3.10.14"
  }
 },
 "nbformat": 4,
 "nbformat_minor": 5
}
